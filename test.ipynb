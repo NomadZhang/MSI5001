{
  "cells": [
    {
      "cell_type": "code",
      "execution_count": 2,
      "id": "08f0bdea",
      "metadata": {
        "id": "08f0bdea",
        "outputId": "27d5c9cf-a198-4451-9669-c7481a2debcd",
        "colab": {
          "base_uri": "https://localhost:8080/"
        }
      },
      "outputs": [
        {
          "output_type": "stream",
          "name": "stdout",
          "text": [
            "hello\n",
            "hello 2\n",
            "hellow from Ivor!\n"
          ]
        }
      ],
      "source": [
        "print('hello')\n",
        "print(\"hello 2\")\n",
        "print(\"hellow from Ivor!\")"
      ]
    },
    {
      "cell_type": "markdown",
      "id": "ba4dbfa9",
      "metadata": {
        "id": "ba4dbfa9"
      },
      "source": []
    }
  ],
  "metadata": {
    "kernelspec": {
      "display_name": "Python 3",
      "language": "python",
      "name": "python3"
    },
    "language_info": {
      "codemirror_mode": {
        "name": "ipython",
        "version": 3
      },
      "file_extension": ".py",
      "mimetype": "text/x-python",
      "name": "python",
      "nbconvert_exporter": "python",
      "pygments_lexer": "ipython3",
      "version": "3.12.1"
    },
    "colab": {
      "provenance": []
    }
  },
  "nbformat": 4,
  "nbformat_minor": 5
}