{
 "cells": [
  {
   "cell_type": "markdown",
   "id": "e92e353b",
   "metadata": {},
   "source": [
    "Import required libraries"
   ]
  },
  {
   "cell_type": "code",
   "execution_count": 2,
   "id": "b1ae833c",
   "metadata": {},
   "outputs": [],
   "source": [
    "#Import libraries\n",
    "import pandas as pd\n",
    "import re\n",
    "import emoji"
   ]
  },
  {
   "cell_type": "markdown",
   "id": "25cff530",
   "metadata": {},
   "source": [
    "Import data into a pandas dataframe"
   ]
  },
  {
   "cell_type": "code",
   "execution_count": 4,
   "id": "2c530478",
   "metadata": {},
   "outputs": [
    {
     "data": {
      "text/html": [
       "<div>\n",
       "<style scoped>\n",
       "    .dataframe tbody tr th:only-of-type {\n",
       "        vertical-align: middle;\n",
       "    }\n",
       "\n",
       "    .dataframe tbody tr th {\n",
       "        vertical-align: top;\n",
       "    }\n",
       "\n",
       "    .dataframe thead th {\n",
       "        text-align: right;\n",
       "    }\n",
       "</style>\n",
       "<table border=\"1\" class=\"dataframe\">\n",
       "  <thead>\n",
       "    <tr style=\"text-align: right;\">\n",
       "      <th></th>\n",
       "      <th>airline_sentiment</th>\n",
       "      <th>sentiment_confidence</th>\n",
       "      <th>text</th>\n",
       "    </tr>\n",
       "  </thead>\n",
       "  <tbody>\n",
       "    <tr>\n",
       "      <th>0</th>\n",
       "      <td>neutral</td>\n",
       "      <td>1.0000</td>\n",
       "      <td>@VirginAmerica What @dhepburn said.</td>\n",
       "    </tr>\n",
       "    <tr>\n",
       "      <th>1</th>\n",
       "      <td>positive</td>\n",
       "      <td>0.3486</td>\n",
       "      <td>@VirginAmerica plus you've added commercials t...</td>\n",
       "    </tr>\n",
       "    <tr>\n",
       "      <th>2</th>\n",
       "      <td>neutral</td>\n",
       "      <td>0.6837</td>\n",
       "      <td>@VirginAmerica I didn't today... Must mean I n...</td>\n",
       "    </tr>\n",
       "    <tr>\n",
       "      <th>3</th>\n",
       "      <td>negative</td>\n",
       "      <td>1.0000</td>\n",
       "      <td>@VirginAmerica it's really aggressive to blast...</td>\n",
       "    </tr>\n",
       "    <tr>\n",
       "      <th>4</th>\n",
       "      <td>negative</td>\n",
       "      <td>1.0000</td>\n",
       "      <td>@VirginAmerica and it's a really big bad thing...</td>\n",
       "    </tr>\n",
       "  </tbody>\n",
       "</table>\n",
       "</div>"
      ],
      "text/plain": [
       "  airline_sentiment  sentiment_confidence  \\\n",
       "0           neutral                1.0000   \n",
       "1          positive                0.3486   \n",
       "2           neutral                0.6837   \n",
       "3          negative                1.0000   \n",
       "4          negative                1.0000   \n",
       "\n",
       "                                                text  \n",
       "0                @VirginAmerica What @dhepburn said.  \n",
       "1  @VirginAmerica plus you've added commercials t...  \n",
       "2  @VirginAmerica I didn't today... Must mean I n...  \n",
       "3  @VirginAmerica it's really aggressive to blast...  \n",
       "4  @VirginAmerica and it's a really big bad thing...  "
      ]
     },
     "execution_count": 4,
     "metadata": {},
     "output_type": "execute_result"
    }
   ],
   "source": [
    "#Import data into a pandas dataframe\n",
    "tweet_data = pd.read_csv(\"Airline Sentiment\\Tweets.csv\")\n",
    "tweet_data.head()"
   ]
  },
  {
   "cell_type": "markdown",
   "id": "52a77c49",
   "metadata": {},
   "source": [
    "Clean tweet data"
   ]
  },
  {
   "cell_type": "code",
   "execution_count": 5,
   "id": "9755469c",
   "metadata": {},
   "outputs": [],
   "source": [
    "#Clean tweet data\n",
    "\n",
    "#Set all to lowercase\n",
    "tweet_data[\"cleaned_text\"]=tweet_data[\"text\"].str.lower()"
   ]
  },
  {
   "cell_type": "markdown",
   "id": "b456387b",
   "metadata": {},
   "source": [
    "Extract features"
   ]
  },
  {
   "cell_type": "code",
   "execution_count": null,
   "id": "c2513254",
   "metadata": {},
   "outputs": [
    {
     "name": "stdout",
     "output_type": "stream",
     "text": [
      "['😡']\n"
     ]
    }
   ],
   "source": [
    "#Extract features\n",
    "\n",
    "#Initilaise a new dataframe to hold the extracted features\n",
    "extracted_features=pd.DataFrame()\n",
    "\n",
    "#Extract the handles\n",
    "extracted_features[\"handles\"]=tweet_data['cleaned_text'].str.findall(r'@(\\w+)')\n",
    "\n",
    "#Extract emojis\n",
    "\n",
    "#example of angry face emoji within the dataset\n",
    "emojis = emoji.distinct_emoji_list(tweet_data['cleaned_text'].iloc[23])\n",
    "print(emojis)\n",
    "\n",
    "# Function to extract emojis from a string\n",
    "def extract_emojis(text):\n",
    "    if isinstance(text, str):  # Ensure it's a string to avoid errors with non-string types like NaN\n",
    "        emoji_list = emoji.distinct_emoji_list(text)\n",
    "        return emoji_list\n",
    "    return '' # Return empty string for non-string values or if no emojis are found\n",
    "\n",
    "# Apply the function to the 'text' column to create a new 'emojis' column\n",
    "extracted_features['emojis'] = tweet_data['cleaned_text'].apply(extract_emojis)\n",
    "\n",
    "#named entity recognition?\n",
    "#how to vectorise the rest of the text?"
   ]
  },
  {
   "cell_type": "code",
   "execution_count": null,
   "id": "be15fd09",
   "metadata": {},
   "outputs": [
    {
     "data": {
      "text/html": [
       "<div>\n",
       "<style scoped>\n",
       "    .dataframe tbody tr th:only-of-type {\n",
       "        vertical-align: middle;\n",
       "    }\n",
       "\n",
       "    .dataframe tbody tr th {\n",
       "        vertical-align: top;\n",
       "    }\n",
       "\n",
       "    .dataframe thead th {\n",
       "        text-align: right;\n",
       "    }\n",
       "</style>\n",
       "<table border=\"1\" class=\"dataframe\">\n",
       "  <thead>\n",
       "    <tr style=\"text-align: right;\">\n",
       "      <th></th>\n",
       "      <th>handles</th>\n",
       "      <th>emojis</th>\n",
       "    </tr>\n",
       "  </thead>\n",
       "  <tbody>\n",
       "    <tr>\n",
       "      <th>0</th>\n",
       "      <td>[virginamerica, dhepburn]</td>\n",
       "      <td>[]</td>\n",
       "    </tr>\n",
       "    <tr>\n",
       "      <th>1</th>\n",
       "      <td>[virginamerica]</td>\n",
       "      <td>[]</td>\n",
       "    </tr>\n",
       "    <tr>\n",
       "      <th>2</th>\n",
       "      <td>[virginamerica]</td>\n",
       "      <td>[]</td>\n",
       "    </tr>\n",
       "    <tr>\n",
       "      <th>3</th>\n",
       "      <td>[virginamerica]</td>\n",
       "      <td>[]</td>\n",
       "    </tr>\n",
       "    <tr>\n",
       "      <th>4</th>\n",
       "      <td>[virginamerica]</td>\n",
       "      <td>[]</td>\n",
       "    </tr>\n",
       "  </tbody>\n",
       "</table>\n",
       "</div>"
      ],
      "text/plain": [
       "                     handles emojis\n",
       "0  [virginamerica, dhepburn]     []\n",
       "1            [virginamerica]     []\n",
       "2            [virginamerica]     []\n",
       "3            [virginamerica]     []\n",
       "4            [virginamerica]     []"
      ]
     },
     "execution_count": 16,
     "metadata": {},
     "output_type": "execute_result"
    }
   ],
   "source": [
    "#Inspect the extracted features dataframe\n",
    "extracted_features.head()"
   ]
  },
  {
   "cell_type": "markdown",
   "id": "cbf258b9",
   "metadata": {},
   "source": [
    "Perform clustering based on features"
   ]
  },
  {
   "cell_type": "code",
   "execution_count": null,
   "id": "7fb6d24e",
   "metadata": {},
   "outputs": [],
   "source": [
    "#Perform clustering based on features\n",
    "\n",
    "#use \"extracted_features\" dataframe"
   ]
  },
  {
   "cell_type": "markdown",
   "id": "1741e17b",
   "metadata": {},
   "source": [
    "Check accuracy of clustering against dataset \"airline_sentiment\" column"
   ]
  },
  {
   "cell_type": "code",
   "execution_count": null,
   "id": "c3eb39ae",
   "metadata": {},
   "outputs": [],
   "source": [
    "#Check accuracy of clustering against dataset \"airline_sentiment\" column\n",
    "#Check that the accuracy correlates against the \"confidence\" column,\n",
    "# ie. the misrepresented tweets are those that have low confidence scores\n",
    "# and those that are correct should have high confidence"
   ]
  }
 ],
 "metadata": {
  "kernelspec": {
   "display_name": "base",
   "language": "python",
   "name": "python3"
  },
  "language_info": {
   "codemirror_mode": {
    "name": "ipython",
    "version": 3
   },
   "file_extension": ".py",
   "mimetype": "text/x-python",
   "name": "python",
   "nbconvert_exporter": "python",
   "pygments_lexer": "ipython3",
   "version": "3.7.4"
  }
 },
 "nbformat": 4,
 "nbformat_minor": 5
}
